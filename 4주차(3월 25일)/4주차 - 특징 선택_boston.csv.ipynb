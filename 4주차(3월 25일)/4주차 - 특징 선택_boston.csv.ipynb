{
 "cells": [
  {
   "cell_type": "markdown",
   "id": "381b5686",
   "metadata": {},
   "source": [
    "---------\n",
    "특징 선택 (feature select)"
   ]
  },
  {
   "cell_type": "code",
   "execution_count": 1,
   "id": "13b10209",
   "metadata": {},
   "outputs": [],
   "source": [
    "import numpy as np\n",
    "import matplotlib.pyplot as plt\n",
    "import pandas as pd\n",
    "import seaborn as sns\n",
    "from scipy import stats  # 과학용 계산 라이브러리"
   ]
  },
  {
   "cell_type": "code",
   "execution_count": 2,
   "id": "f06769c5",
   "metadata": {},
   "outputs": [
    {
     "data": {
      "text/html": [
       "<div>\n",
       "<style scoped>\n",
       "    .dataframe tbody tr th:only-of-type {\n",
       "        vertical-align: middle;\n",
       "    }\n",
       "\n",
       "    .dataframe tbody tr th {\n",
       "        vertical-align: top;\n",
       "    }\n",
       "\n",
       "    .dataframe thead th {\n",
       "        text-align: right;\n",
       "    }\n",
       "</style>\n",
       "<table border=\"1\" class=\"dataframe\">\n",
       "  <thead>\n",
       "    <tr style=\"text-align: right;\">\n",
       "      <th></th>\n",
       "      <th>MedInc</th>\n",
       "      <th>HouseAge</th>\n",
       "      <th>AveRooms</th>\n",
       "      <th>AveBedrms</th>\n",
       "      <th>Population</th>\n",
       "      <th>AveOccup</th>\n",
       "      <th>Latitude</th>\n",
       "      <th>Longitude</th>\n",
       "      <th>PRICE</th>\n",
       "    </tr>\n",
       "  </thead>\n",
       "  <tbody>\n",
       "    <tr>\n",
       "      <th>0</th>\n",
       "      <td>8.3252</td>\n",
       "      <td>41.0</td>\n",
       "      <td>6.984127</td>\n",
       "      <td>1.023810</td>\n",
       "      <td>322.0</td>\n",
       "      <td>2.555556</td>\n",
       "      <td>37.88</td>\n",
       "      <td>-122.23</td>\n",
       "      <td>4.526</td>\n",
       "    </tr>\n",
       "    <tr>\n",
       "      <th>1</th>\n",
       "      <td>8.3014</td>\n",
       "      <td>21.0</td>\n",
       "      <td>6.238137</td>\n",
       "      <td>0.971880</td>\n",
       "      <td>2401.0</td>\n",
       "      <td>2.109842</td>\n",
       "      <td>37.86</td>\n",
       "      <td>-122.22</td>\n",
       "      <td>3.585</td>\n",
       "    </tr>\n",
       "    <tr>\n",
       "      <th>2</th>\n",
       "      <td>7.2574</td>\n",
       "      <td>52.0</td>\n",
       "      <td>8.288136</td>\n",
       "      <td>1.073446</td>\n",
       "      <td>496.0</td>\n",
       "      <td>2.802260</td>\n",
       "      <td>37.85</td>\n",
       "      <td>-122.24</td>\n",
       "      <td>3.521</td>\n",
       "    </tr>\n",
       "    <tr>\n",
       "      <th>3</th>\n",
       "      <td>5.6431</td>\n",
       "      <td>52.0</td>\n",
       "      <td>5.817352</td>\n",
       "      <td>1.073059</td>\n",
       "      <td>558.0</td>\n",
       "      <td>2.547945</td>\n",
       "      <td>37.85</td>\n",
       "      <td>-122.25</td>\n",
       "      <td>3.413</td>\n",
       "    </tr>\n",
       "    <tr>\n",
       "      <th>4</th>\n",
       "      <td>3.8462</td>\n",
       "      <td>52.0</td>\n",
       "      <td>6.281853</td>\n",
       "      <td>1.081081</td>\n",
       "      <td>565.0</td>\n",
       "      <td>2.181467</td>\n",
       "      <td>37.85</td>\n",
       "      <td>-122.25</td>\n",
       "      <td>3.422</td>\n",
       "    </tr>\n",
       "    <tr>\n",
       "      <th>...</th>\n",
       "      <td>...</td>\n",
       "      <td>...</td>\n",
       "      <td>...</td>\n",
       "      <td>...</td>\n",
       "      <td>...</td>\n",
       "      <td>...</td>\n",
       "      <td>...</td>\n",
       "      <td>...</td>\n",
       "      <td>...</td>\n",
       "    </tr>\n",
       "    <tr>\n",
       "      <th>20635</th>\n",
       "      <td>1.5603</td>\n",
       "      <td>25.0</td>\n",
       "      <td>5.045455</td>\n",
       "      <td>1.133333</td>\n",
       "      <td>845.0</td>\n",
       "      <td>2.560606</td>\n",
       "      <td>39.48</td>\n",
       "      <td>-121.09</td>\n",
       "      <td>0.781</td>\n",
       "    </tr>\n",
       "    <tr>\n",
       "      <th>20636</th>\n",
       "      <td>2.5568</td>\n",
       "      <td>18.0</td>\n",
       "      <td>6.114035</td>\n",
       "      <td>1.315789</td>\n",
       "      <td>356.0</td>\n",
       "      <td>3.122807</td>\n",
       "      <td>39.49</td>\n",
       "      <td>-121.21</td>\n",
       "      <td>0.771</td>\n",
       "    </tr>\n",
       "    <tr>\n",
       "      <th>20637</th>\n",
       "      <td>1.7000</td>\n",
       "      <td>17.0</td>\n",
       "      <td>5.205543</td>\n",
       "      <td>1.120092</td>\n",
       "      <td>1007.0</td>\n",
       "      <td>2.325635</td>\n",
       "      <td>39.43</td>\n",
       "      <td>-121.22</td>\n",
       "      <td>0.923</td>\n",
       "    </tr>\n",
       "    <tr>\n",
       "      <th>20638</th>\n",
       "      <td>1.8672</td>\n",
       "      <td>18.0</td>\n",
       "      <td>5.329513</td>\n",
       "      <td>1.171920</td>\n",
       "      <td>741.0</td>\n",
       "      <td>2.123209</td>\n",
       "      <td>39.43</td>\n",
       "      <td>-121.32</td>\n",
       "      <td>0.847</td>\n",
       "    </tr>\n",
       "    <tr>\n",
       "      <th>20639</th>\n",
       "      <td>2.3886</td>\n",
       "      <td>16.0</td>\n",
       "      <td>5.254717</td>\n",
       "      <td>1.162264</td>\n",
       "      <td>1387.0</td>\n",
       "      <td>2.616981</td>\n",
       "      <td>39.37</td>\n",
       "      <td>-121.24</td>\n",
       "      <td>0.894</td>\n",
       "    </tr>\n",
       "  </tbody>\n",
       "</table>\n",
       "<p>20640 rows × 9 columns</p>\n",
       "</div>"
      ],
      "text/plain": [
       "       MedInc  HouseAge  AveRooms  AveBedrms  Population  AveOccup  Latitude  \\\n",
       "0      8.3252      41.0  6.984127   1.023810       322.0  2.555556     37.88   \n",
       "1      8.3014      21.0  6.238137   0.971880      2401.0  2.109842     37.86   \n",
       "2      7.2574      52.0  8.288136   1.073446       496.0  2.802260     37.85   \n",
       "3      5.6431      52.0  5.817352   1.073059       558.0  2.547945     37.85   \n",
       "4      3.8462      52.0  6.281853   1.081081       565.0  2.181467     37.85   \n",
       "...       ...       ...       ...        ...         ...       ...       ...   \n",
       "20635  1.5603      25.0  5.045455   1.133333       845.0  2.560606     39.48   \n",
       "20636  2.5568      18.0  6.114035   1.315789       356.0  3.122807     39.49   \n",
       "20637  1.7000      17.0  5.205543   1.120092      1007.0  2.325635     39.43   \n",
       "20638  1.8672      18.0  5.329513   1.171920       741.0  2.123209     39.43   \n",
       "20639  2.3886      16.0  5.254717   1.162264      1387.0  2.616981     39.37   \n",
       "\n",
       "       Longitude  PRICE  \n",
       "0        -122.23  4.526  \n",
       "1        -122.22  3.585  \n",
       "2        -122.24  3.521  \n",
       "3        -122.25  3.413  \n",
       "4        -122.25  3.422  \n",
       "...          ...    ...  \n",
       "20635    -121.09  0.781  \n",
       "20636    -121.21  0.771  \n",
       "20637    -121.22  0.923  \n",
       "20638    -121.32  0.847  \n",
       "20639    -121.24  0.894  \n",
       "\n",
       "[20640 rows x 9 columns]"
      ]
     },
     "execution_count": 2,
     "metadata": {},
     "output_type": "execute_result"
    }
   ],
   "source": [
    "import numpy as np\n",
    "import pandas as pd\n",
    "import seaborn as sns\n",
    "from sklearn.model_selection import train_test_split\n",
    "import tensorflow as tf\n",
    "from tensorflow import keras\n",
    "\n",
    "\n",
    "df = pd.read_csv(\"C:/Users/7kingdom/Documents/인공지능개론/src/boston.csv\", index_col='Unnamed: 0')\n",
    "df"
   ]
  },
  {
   "cell_type": "markdown",
   "id": "21667ab5",
   "metadata": {},
   "source": [
    "---\n",
    "| MedInc | 블록의 중간 소득 | <br>\n",
    "| HouseAge | 블록의 중간 주택 연도 |<br>\n",
    "| AveRooms | 주택 1가구당 평균 방의 수 |<br>\n",
    "| AveBedrms | 주택 1가구당 평균 침실의 수 |<br>\n",
    "| Population | 인구 |<br>\n",
    "| AveOccup |  average house occupancy 평균 주택점유율 |<br>\n",
    "| Latitude | 위도 |<br>\n",
    "| Longitude | 경도 |<br>\n"
   ]
  },
  {
   "cell_type": "markdown",
   "id": "aadc0742",
   "metadata": {},
   "source": [
    "피쳐를 해석해봤는데 뭐가 집값이랑 관련이 있는 지 알 수가 없다.<br>\n",
    "이를 파악하기 위한 것이 상관 관계 행렬이다."
   ]
  },
  {
   "cell_type": "code",
   "execution_count": 3,
   "id": "929db876",
   "metadata": {},
   "outputs": [
    {
     "data": {
      "image/png": "[encoded data removed]",
      "text/plain": [
       "<Figure size 1000x1000 with 1 Axes>"
      ]
     },
     "metadata": {},
     "output_type": "display_data"
    }
   ],
   "source": [
    "#상관 관계 행렬\n",
    "# 0.3 이상인 경우 상관관계가 있고, 0.7이상이면 아주 높음\n",
    "\n",
    "df_corr=df.corr()\n",
    "\n",
    "#히트맵\n",
    "plt.figure(figsize=(10,10))\n",
    "sns.set(font_scale=0.8)\n",
    "sns.heatmap(df_corr, annot=True, cbar=False)\n",
    "plt.show()\n",
    "\n",
    "# PRICE와 높은 건  MedInc"
   ]
  },
  {
   "cell_type": "markdown",
   "id": "9d74b52a",
   "metadata": {},
   "source": [
    "다 무시하고 레이블인 집값을 보면은 상관 관계가 Medinc가 0.69로 아주 많이 관련이 있다. <br>\n",
    "그렇다면 학습을 진행할 때 관계 없는 나머지보다 Medinc에 집중하는게 MSE를 잘 뽑을 수 있다.<br>\n",
    "하지만 피쳐가 1개라면 1 대 1 대응이니까 의미가 없어서 다음으로 관계있는 AveRooms를 추가해서 모든 피쳐를 넣은 모델과 비교해보자"
   ]
  },
  {
   "cell_type": "markdown",
   "id": "343fc2e0",
   "metadata": {},
   "source": [
    "-----"
   ]
  },
  {
   "cell_type": "markdown",
   "id": "8b7f589c",
   "metadata": {},
   "source": [
    "<h3> 일단 모든 피쳐를 넣은 모델"
   ]
  },
  {
   "cell_type": "code",
   "execution_count": 4,
   "id": "7a2b6e27",
   "metadata": {},
   "outputs": [
    {
     "data": {
      "text/html": [
       "<div>\n",
       "<style scoped>\n",
       "    .dataframe tbody tr th:only-of-type {\n",
       "        vertical-align: middle;\n",
       "    }\n",
       "\n",
       "    .dataframe tbody tr th {\n",
       "        vertical-align: top;\n",
       "    }\n",
       "\n",
       "    .dataframe thead th {\n",
       "        text-align: right;\n",
       "    }\n",
       "</style>\n",
       "<table border=\"1\" class=\"dataframe\">\n",
       "  <thead>\n",
       "    <tr style=\"text-align: right;\">\n",
       "      <th></th>\n",
       "      <th>MedInc</th>\n",
       "      <th>HouseAge</th>\n",
       "      <th>AveRooms</th>\n",
       "      <th>AveBedrms</th>\n",
       "      <th>Population</th>\n",
       "      <th>AveOccup</th>\n",
       "      <th>Latitude</th>\n",
       "      <th>Longitude</th>\n",
       "    </tr>\n",
       "  </thead>\n",
       "  <tbody>\n",
       "    <tr>\n",
       "      <th>0</th>\n",
       "      <td>8.3252</td>\n",
       "      <td>41.0</td>\n",
       "      <td>6.984127</td>\n",
       "      <td>1.023810</td>\n",
       "      <td>322.0</td>\n",
       "      <td>2.555556</td>\n",
       "      <td>37.88</td>\n",
       "      <td>-122.23</td>\n",
       "    </tr>\n",
       "    <tr>\n",
       "      <th>1</th>\n",
       "      <td>8.3014</td>\n",
       "      <td>21.0</td>\n",
       "      <td>6.238137</td>\n",
       "      <td>0.971880</td>\n",
       "      <td>2401.0</td>\n",
       "      <td>2.109842</td>\n",
       "      <td>37.86</td>\n",
       "      <td>-122.22</td>\n",
       "    </tr>\n",
       "    <tr>\n",
       "      <th>2</th>\n",
       "      <td>7.2574</td>\n",
       "      <td>52.0</td>\n",
       "      <td>8.288136</td>\n",
       "      <td>1.073446</td>\n",
       "      <td>496.0</td>\n",
       "      <td>2.802260</td>\n",
       "      <td>37.85</td>\n",
       "      <td>-122.24</td>\n",
       "    </tr>\n",
       "    <tr>\n",
       "      <th>3</th>\n",
       "      <td>5.6431</td>\n",
       "      <td>52.0</td>\n",
       "      <td>5.817352</td>\n",
       "      <td>1.073059</td>\n",
       "      <td>558.0</td>\n",
       "      <td>2.547945</td>\n",
       "      <td>37.85</td>\n",
       "      <td>-122.25</td>\n",
       "    </tr>\n",
       "    <tr>\n",
       "      <th>4</th>\n",
       "      <td>3.8462</td>\n",
       "      <td>52.0</td>\n",
       "      <td>6.281853</td>\n",
       "      <td>1.081081</td>\n",
       "      <td>565.0</td>\n",
       "      <td>2.181467</td>\n",
       "      <td>37.85</td>\n",
       "      <td>-122.25</td>\n",
       "    </tr>\n",
       "  </tbody>\n",
       "</table>\n",
       "</div>"
      ],
      "text/plain": [
       "   MedInc  HouseAge  AveRooms  AveBedrms  Population  AveOccup  Latitude  \\\n",
       "0  8.3252      41.0  6.984127   1.023810       322.0  2.555556     37.88   \n",
       "1  8.3014      21.0  6.238137   0.971880      2401.0  2.109842     37.86   \n",
       "2  7.2574      52.0  8.288136   1.073446       496.0  2.802260     37.85   \n",
       "3  5.6431      52.0  5.817352   1.073059       558.0  2.547945     37.85   \n",
       "4  3.8462      52.0  6.281853   1.081081       565.0  2.181467     37.85   \n",
       "\n",
       "   Longitude  \n",
       "0    -122.23  \n",
       "1    -122.22  \n",
       "2    -122.24  \n",
       "3    -122.25  \n",
       "4    -122.25  "
      ]
     },
     "execution_count": 4,
     "metadata": {},
     "output_type": "execute_result"
    }
   ],
   "source": [
    "A_X = df.drop('PRICE',axis=1)\n",
    "A_X.head()"
   ]
  },
  {
   "cell_type": "code",
   "execution_count": 5,
   "id": "919236d7",
   "metadata": {},
   "outputs": [
    {
     "data": {
      "text/plain": [
       "0    4.526\n",
       "1    3.585\n",
       "2    3.521\n",
       "3    3.413\n",
       "4    3.422\n",
       "Name: PRICE, dtype: float64"
      ]
     },
     "execution_count": 5,
     "metadata": {},
     "output_type": "execute_result"
    }
   ],
   "source": [
    "A_y = df['PRICE']\n",
    "A_y.head()"
   ]
  },
  {
   "cell_type": "code",
   "execution_count": 6,
   "id": "a86aec85",
   "metadata": {},
   "outputs": [
    {
     "name": "stdout",
     "output_type": "stream",
     "text": [
      "(16512, 8) (16512,)\n",
      "(4128, 8) (4128,)\n"
     ]
    }
   ],
   "source": [
    "from sklearn.model_selection import train_test_split\n",
    "\n",
    "A_X_train, A_X_test, A_y_train, A_y_test=train_test_split(A_X,\n",
    "                                                  A_y,\n",
    "                                                  test_size=0.2,\n",
    "                                                  shuffle=True,\n",
    "                                                  random_state=12)\n",
    "print(A_X_train.shape, A_y_train.shape)\n",
    "print(A_X_test.shape, A_y_test.shape)"
   ]
  },
  {
   "cell_type": "code",
   "execution_count": 7,
   "id": "58d3228e",
   "metadata": {},
   "outputs": [
    {
     "name": "stdout",
     "output_type": "stream",
     "text": [
      "선형 회귀 \n",
      "평균제곱근오차 0.5269927956248035\n"
     ]
    }
   ],
   "source": [
    "from sklearn.linear_model import LinearRegression\n",
    "from sklearn.metrics import mean_squared_error\n",
    "\n",
    "model = LinearRegression()\n",
    "model.fit(A_X_train, A_y_train)\n",
    "ly_preds = model.predict(A_X_test)\n",
    "\n",
    "print(\"선형 회귀 \")\n",
    "print('평균제곱근오차', mean_squared_error(ly_preds, A_y_test))\n"
   ]
  },
  {
   "cell_type": "code",
   "execution_count": 8,
   "id": "2e9ccf74",
   "metadata": {},
   "outputs": [
    {
     "name": "stdout",
     "output_type": "stream",
     "text": [
      "디시전 트리\n",
      "평균제곱근오차 0.47742785703471413\n"
     ]
    }
   ],
   "source": [
    "from sklearn.tree import DecisionTreeRegressor\n",
    "\n",
    "model = DecisionTreeRegressor()\n",
    "model.fit(A_X_train, A_y_train)\n",
    "\n",
    "from sklearn.metrics import mean_squared_error\n",
    "\n",
    "dy_preds = model.predict(A_X_test)\n",
    "\n",
    "print(\"디시전 트리\")\n",
    "print('평균제곱근오차', mean_squared_error(dy_preds, A_y_test))"
   ]
  },
  {
   "cell_type": "code",
   "execution_count": 9,
   "id": "3c676480",
   "metadata": {},
   "outputs": [
    {
     "name": "stdout",
     "output_type": "stream",
     "text": [
      "랜덤포레스트\n",
      "평균제곱근오차 0.2526853254760831\n"
     ]
    }
   ],
   "source": [
    "from sklearn.ensemble import RandomForestRegressor\n",
    "\n",
    "model = RandomForestRegressor()\n",
    "model.fit(A_X_train, A_y_train)\n",
    "\n",
    "from sklearn.metrics import mean_squared_error\n",
    "\n",
    "ry_preds = model.predict(A_X_test)\n",
    "\n",
    "print(\"랜덤포레스트\")\n",
    "print('평균제곱근오차', mean_squared_error(ry_preds, A_y_test))"
   ]
  },
  {
   "cell_type": "code",
   "execution_count": 10,
   "id": "6b781cc3",
   "metadata": {},
   "outputs": [],
   "source": [
    "#from sklearn.svm import SVR\n",
    "#\n",
    "#model = SVR(kernel='linear')\n",
    "#model.fit(A_X_train, A_y_train)\n",
    "#\n",
    "#from sklearn.metrics import mean_squared_error\n",
    "#\n",
    "#ry_preds = model.predict(A_X_test)\n",
    "#\n",
    "#print(\"SVR\")\n",
    "#print('평균제곱근오차', mean_squared_error(ry_preds, A_y_test))\n",
    "\n",
    "#할려 했는데 너무 느려서 컷"
   ]
  },
  {
   "cell_type": "code",
   "execution_count": 11,
   "id": "8f8a505a",
   "metadata": {},
   "outputs": [
    {
     "name": "stdout",
     "output_type": "stream",
     "text": [
      "KNN\n",
      "평균제곱근오차: 1.1557853715421391\n"
     ]
    }
   ],
   "source": [
    "from sklearn.neighbors import KNeighborsRegressor\n",
    "from sklearn.datasets import make_regression\n",
    "from sklearn.model_selection import train_test_split\n",
    "from sklearn.metrics import mean_squared_error\n",
    "\n",
    "\n",
    "k = 5  # 이웃의 수 설정\n",
    "knn_regressor = KNeighborsRegressor(n_neighbors=k)\n",
    "\n",
    "knn_regressor.fit(A_X_train, A_y_train)\n",
    "\n",
    "y_pred = knn_regressor.predict(A_X_test)\n",
    "\n",
    "\n",
    "# 모델 성능 평가 (예시로 평균 제곱 오차 사용)\n",
    "print(\"KNN\")\n",
    "mse = mean_squared_error(y_pred, A_y_test)\n",
    "print(\"평균제곱근오차:\", mse)"
   ]
  },
  {
   "cell_type": "markdown",
   "id": "8865828a",
   "metadata": {},
   "source": [
    "모든 피쳐를 넣으면 이정도 MSE를 제공한다. 다음은 2개의 피쳐만 사용해보자."
   ]
  },
  {
   "cell_type": "markdown",
   "id": "b219e5c3",
   "metadata": {},
   "source": [
    "----"
   ]
  },
  {
   "cell_type": "markdown",
   "id": "bf383b66",
   "metadata": {},
   "source": [
    "<h3> 가장 관계 있는 피쳐 1개만 써보기"
   ]
  },
  {
   "cell_type": "markdown",
   "id": "e9408045",
   "metadata": {},
   "source": [
    "관계도 0.69를 자랑하는 Medinc만 사용해보자."
   ]
  },
  {
   "cell_type": "code",
   "execution_count": 12,
   "id": "ca5c5db9",
   "metadata": {},
   "outputs": [
    {
     "data": {
      "text/html": [
       "<div>\n",
       "<style scoped>\n",
       "    .dataframe tbody tr th:only-of-type {\n",
       "        vertical-align: middle;\n",
       "    }\n",
       "\n",
       "    .dataframe tbody tr th {\n",
       "        vertical-align: top;\n",
       "    }\n",
       "\n",
       "    .dataframe thead th {\n",
       "        text-align: right;\n",
       "    }\n",
       "</style>\n",
       "<table border=\"1\" class=\"dataframe\">\n",
       "  <thead>\n",
       "    <tr style=\"text-align: right;\">\n",
       "      <th></th>\n",
       "      <th>MedInc</th>\n",
       "    </tr>\n",
       "  </thead>\n",
       "  <tbody>\n",
       "    <tr>\n",
       "      <th>0</th>\n",
       "      <td>8.3252</td>\n",
       "    </tr>\n",
       "    <tr>\n",
       "      <th>1</th>\n",
       "      <td>8.3014</td>\n",
       "    </tr>\n",
       "    <tr>\n",
       "      <th>2</th>\n",
       "      <td>7.2574</td>\n",
       "    </tr>\n",
       "    <tr>\n",
       "      <th>3</th>\n",
       "      <td>5.6431</td>\n",
       "    </tr>\n",
       "    <tr>\n",
       "      <th>4</th>\n",
       "      <td>3.8462</td>\n",
       "    </tr>\n",
       "  </tbody>\n",
       "</table>\n",
       "</div>"
      ],
      "text/plain": [
       "   MedInc\n",
       "0  8.3252\n",
       "1  8.3014\n",
       "2  7.2574\n",
       "3  5.6431\n",
       "4  3.8462"
      ]
     },
     "execution_count": 12,
     "metadata": {},
     "output_type": "execute_result"
    }
   ],
   "source": [
    "One_drop_FT = ['HouseAge','AveRooms', 'AveBedrms','Population','AveOccup','Latitude','Longitude','PRICE']\n",
    "\n",
    "One_X = df.drop(One_drop_FT,axis=1)\n",
    "One_X.head()"
   ]
  },
  {
   "cell_type": "code",
   "execution_count": 13,
   "id": "d1b11bfc",
   "metadata": {},
   "outputs": [
    {
     "data": {
      "text/plain": [
       "0    4.526\n",
       "1    3.585\n",
       "2    3.521\n",
       "3    3.413\n",
       "4    3.422\n",
       "Name: PRICE, dtype: float64"
      ]
     },
     "execution_count": 13,
     "metadata": {},
     "output_type": "execute_result"
    }
   ],
   "source": [
    "One_y = df['PRICE']\n",
    "One_y.head()"
   ]
  },
  {
   "cell_type": "code",
   "execution_count": 14,
   "id": "e91dba68",
   "metadata": {},
   "outputs": [
    {
     "name": "stdout",
     "output_type": "stream",
     "text": [
      "(16512, 1) (16512,)\n",
      "(4128, 1) (4128,)\n"
     ]
    }
   ],
   "source": [
    "from sklearn.model_selection import train_test_split\n",
    "\n",
    "One_X_train, One_X_test, One_y_train, One_y_test=train_test_split(One_X,\n",
    "                                                  One_y,\n",
    "                                                  test_size=0.2,\n",
    "                                                  shuffle=True,\n",
    "                                                  random_state=12)\n",
    "print(One_X_train.shape, One_y_train.shape)\n",
    "print(One_X_test.shape, One_y_test.shape)"
   ]
  },
  {
   "cell_type": "code",
   "execution_count": 15,
   "id": "7f074ca5",
   "metadata": {},
   "outputs": [
    {
     "name": "stdout",
     "output_type": "stream",
     "text": [
      "선형 회귀\n",
      "평균제곱근오차 0.7028749315031905\n"
     ]
    }
   ],
   "source": [
    "from sklearn.linear_model import LinearRegression\n",
    "from sklearn.metrics import mean_squared_error\n",
    "\n",
    "model = LinearRegression()\n",
    "model.fit(One_X_train, One_y_train)\n",
    "ly_preds = model.predict(One_X_test)\n",
    "\n",
    "print(\"선형 회귀\")\n",
    "print('평균제곱근오차', mean_squared_error(ly_preds, One_y_test))\n"
   ]
  },
  {
   "cell_type": "code",
   "execution_count": 16,
   "id": "18c9d675",
   "metadata": {},
   "outputs": [
    {
     "name": "stdout",
     "output_type": "stream",
     "text": [
      "디시전 트리\n",
      "평균제곱근오차 1.1702564942080804\n"
     ]
    }
   ],
   "source": [
    "from sklearn.tree import DecisionTreeRegressor\n",
    "\n",
    "model = DecisionTreeRegressor()\n",
    "model.fit(One_X_train, One_y_train)\n",
    "\n",
    "from sklearn.metrics import mean_squared_error\n",
    "\n",
    "dy_preds = model.predict(One_X_test)\n",
    "\n",
    "print(\"디시전 트리\")\n",
    "print('평균제곱근오차', mean_squared_error(dy_preds, One_y_test))"
   ]
  },
  {
   "cell_type": "code",
   "execution_count": 17,
   "id": "f72e2ba2",
   "metadata": {},
   "outputs": [
    {
     "name": "stdout",
     "output_type": "stream",
     "text": [
      "랜덤포레스트\n",
      "평균제곱근오차 0.9454427871285044\n"
     ]
    }
   ],
   "source": [
    "from sklearn.ensemble import RandomForestRegressor\n",
    "\n",
    "model = RandomForestRegressor()\n",
    "model.fit(One_X_train, One_y_train)\n",
    "\n",
    "from sklearn.metrics import mean_squared_error\n",
    "\n",
    "ry_preds = model.predict(One_X_test)\n",
    "\n",
    "print(\"랜덤포레스트\")\n",
    "print('평균제곱근오차', mean_squared_error(ry_preds, One_y_test))"
   ]
  },
  {
   "cell_type": "code",
   "execution_count": 18,
   "id": "d16896bc",
   "metadata": {},
   "outputs": [
    {
     "name": "stdout",
     "output_type": "stream",
     "text": [
      "KNN\n",
      "평균제곱근오차: 0.8207580371394012\n"
     ]
    }
   ],
   "source": [
    "from sklearn.neighbors import KNeighborsRegressor\n",
    "from sklearn.datasets import make_regression\n",
    "from sklearn.model_selection import train_test_split\n",
    "from sklearn.metrics import mean_squared_error\n",
    "\n",
    "\n",
    "k = 5  # 이웃의 수 설정\n",
    "knn_regressor = KNeighborsRegressor(n_neighbors=k)\n",
    "\n",
    "knn_regressor.fit(One_X_train, One_y_train)\n",
    "\n",
    "y_pred = knn_regressor.predict(One_X_test)\n",
    "\n",
    "\n",
    "# 모델 성능 평가 (예시로 평균 제곱 오차 사용)\n",
    "print(\"KNN\")\n",
    "mse = mean_squared_error(y_pred, One_y_test)\n",
    "print(\"평균제곱근오차:\", mse)"
   ]
  },
  {
   "cell_type": "markdown",
   "id": "c3137463",
   "metadata": {},
   "source": []
  },
  {
   "cell_type": "markdown",
   "id": "5b592076",
   "metadata": {},
   "source": [
    "<h3>Medinc와 AveRooms만 써본 모델"
   ]
  },
  {
   "cell_type": "markdown",
   "id": "88ee8263",
   "metadata": {},
   "source": [
    "2개의 피쳐는 위에서 선택한 Medinc와 AveRooms을 써보자,"
   ]
  },
  {
   "cell_type": "code",
   "execution_count": 19,
   "id": "cad83596",
   "metadata": {},
   "outputs": [
    {
     "data": {
      "text/html": [
       "<div>\n",
       "<style scoped>\n",
       "    .dataframe tbody tr th:only-of-type {\n",
       "        vertical-align: middle;\n",
       "    }\n",
       "\n",
       "    .dataframe tbody tr th {\n",
       "        vertical-align: top;\n",
       "    }\n",
       "\n",
       "    .dataframe thead th {\n",
       "        text-align: right;\n",
       "    }\n",
       "</style>\n",
       "<table border=\"1\" class=\"dataframe\">\n",
       "  <thead>\n",
       "    <tr style=\"text-align: right;\">\n",
       "      <th></th>\n",
       "      <th>MedInc</th>\n",
       "      <th>AveRooms</th>\n",
       "    </tr>\n",
       "  </thead>\n",
       "  <tbody>\n",
       "    <tr>\n",
       "      <th>0</th>\n",
       "      <td>8.3252</td>\n",
       "      <td>6.984127</td>\n",
       "    </tr>\n",
       "    <tr>\n",
       "      <th>1</th>\n",
       "      <td>8.3014</td>\n",
       "      <td>6.238137</td>\n",
       "    </tr>\n",
       "    <tr>\n",
       "      <th>2</th>\n",
       "      <td>7.2574</td>\n",
       "      <td>8.288136</td>\n",
       "    </tr>\n",
       "    <tr>\n",
       "      <th>3</th>\n",
       "      <td>5.6431</td>\n",
       "      <td>5.817352</td>\n",
       "    </tr>\n",
       "    <tr>\n",
       "      <th>4</th>\n",
       "      <td>3.8462</td>\n",
       "      <td>6.281853</td>\n",
       "    </tr>\n",
       "  </tbody>\n",
       "</table>\n",
       "</div>"
      ],
      "text/plain": [
       "   MedInc  AveRooms\n",
       "0  8.3252  6.984127\n",
       "1  8.3014  6.238137\n",
       "2  7.2574  8.288136\n",
       "3  5.6431  5.817352\n",
       "4  3.8462  6.281853"
      ]
     },
     "execution_count": 19,
     "metadata": {},
     "output_type": "execute_result"
    }
   ],
   "source": [
    "Two_drop_FT = ['HouseAge', 'AveBedrms','Population','AveOccup','Latitude','Longitude','PRICE']\n",
    "\n",
    "Two_X = df.drop(Two_drop_FT,axis=1)\n",
    "Two_X.head()"
   ]
  },
  {
   "cell_type": "code",
   "execution_count": 20,
   "id": "8c730c7e",
   "metadata": {},
   "outputs": [
    {
     "data": {
      "text/plain": [
       "0    4.526\n",
       "1    3.585\n",
       "2    3.521\n",
       "3    3.413\n",
       "4    3.422\n",
       "Name: PRICE, dtype: float64"
      ]
     },
     "execution_count": 20,
     "metadata": {},
     "output_type": "execute_result"
    }
   ],
   "source": [
    "Two_y = df['PRICE']\n",
    "Two_y.head()"
   ]
  },
  {
   "cell_type": "code",
   "execution_count": 21,
   "id": "e956221e",
   "metadata": {},
   "outputs": [
    {
     "name": "stdout",
     "output_type": "stream",
     "text": [
      "(16512, 2) (16512,)\n",
      "(4128, 2) (4128,)\n"
     ]
    }
   ],
   "source": [
    "from sklearn.model_selection import train_test_split\n",
    "\n",
    "Two_X_train, Two_X_test, Two_y_train, Two_y_test=train_test_split(Two_X,\n",
    "                                                  Two_y,\n",
    "                                                  test_size=0.2,\n",
    "                                                  shuffle=True,\n",
    "                                                  random_state=12)\n",
    "print(Two_X_train.shape, Two_y_train.shape)\n",
    "print(Two_X_test.shape, Two_y_test.shape)"
   ]
  },
  {
   "cell_type": "code",
   "execution_count": 22,
   "id": "aa3ec403",
   "metadata": {},
   "outputs": [
    {
     "name": "stdout",
     "output_type": "stream",
     "text": [
      "선형 회귀\n",
      "평균제곱근오차 0.6916011698420803\n"
     ]
    }
   ],
   "source": [
    "from sklearn.linear_model import LinearRegression\n",
    "from sklearn.metrics import mean_squared_error\n",
    "\n",
    "model = LinearRegression()\n",
    "model.fit(Two_X_train, Two_y_train)\n",
    "ly_preds = model.predict(Two_X_test)\n",
    "\n",
    "print(\"선형 회귀\")\n",
    "print('평균제곱근오차', mean_squared_error(ly_preds, Two_y_test))\n"
   ]
  },
  {
   "cell_type": "code",
   "execution_count": 23,
   "id": "bf14780c",
   "metadata": {},
   "outputs": [
    {
     "name": "stdout",
     "output_type": "stream",
     "text": [
      "디시전 트리\n",
      "평균제곱근오차 1.1978292995411095\n"
     ]
    }
   ],
   "source": [
    "from sklearn.tree import DecisionTreeRegressor\n",
    "\n",
    "model = DecisionTreeRegressor()\n",
    "model.fit(Two_X_train, Two_y_train)\n",
    "\n",
    "from sklearn.metrics import mean_squared_error\n",
    "\n",
    "dy_preds = model.predict(Two_X_test)\n",
    "\n",
    "print(\"디시전 트리\")\n",
    "print('평균제곱근오차', mean_squared_error(dy_preds, Two_y_test))"
   ]
  },
  {
   "cell_type": "code",
   "execution_count": 24,
   "id": "c5b1beea",
   "metadata": {},
   "outputs": [
    {
     "name": "stdout",
     "output_type": "stream",
     "text": [
      "랜덤포레스트\n",
      "평균제곱근오차 0.688814951908729\n"
     ]
    }
   ],
   "source": [
    "from sklearn.ensemble import RandomForestRegressor\n",
    "\n",
    "model = RandomForestRegressor()\n",
    "model.fit(Two_X_train, Two_y_train)\n",
    "\n",
    "from sklearn.metrics import mean_squared_error\n",
    "\n",
    "ry_preds = model.predict(Two_X_test)\n",
    "\n",
    "print(\"랜덤포레스트\")\n",
    "print('평균제곱근오차', mean_squared_error(ry_preds, Two_y_test))"
   ]
  },
  {
   "cell_type": "code",
   "execution_count": 25,
   "id": "1c2a39bb",
   "metadata": {},
   "outputs": [],
   "source": [
    "#from sklearn.svm import SVR\n",
    "#\n",
    "#model = SVR(kernel='linear')\n",
    "#model.fit(Two_X_train, Two_y_train)\n",
    "#\n",
    "#from sklearn.metrics import mean_squared_error\n",
    "#\n",
    "#ry_preds = model.predict(Two_X_test)\n",
    "#\n",
    "#print(\"SVR\")\n",
    "#print('평균제곱근오차', mean_squared_error(ry_preds, Two_y_test))\n",
    "\n",
    "#할려 했는데 너무 느려서 컷"
   ]
  },
  {
   "cell_type": "code",
   "execution_count": 26,
   "id": "8b8bd062",
   "metadata": {},
   "outputs": [
    {
     "name": "stdout",
     "output_type": "stream",
     "text": [
      "KNN\n",
      "평균제곱근오차: 0.6881675668607915\n"
     ]
    }
   ],
   "source": [
    "from sklearn.neighbors import KNeighborsRegressor\n",
    "from sklearn.datasets import make_regression\n",
    "from sklearn.model_selection import train_test_split\n",
    "from sklearn.metrics import mean_squared_error\n",
    "\n",
    "\n",
    "k = 5  # 이웃의 수 설정\n",
    "knn_regressor = KNeighborsRegressor(n_neighbors=k)\n",
    "\n",
    "knn_regressor.fit(Two_X_train, Two_y_train)\n",
    "\n",
    "y_pred = knn_regressor.predict(Two_X_test)\n",
    "\n",
    "\n",
    "# 모델 성능 평가 (예시로 평균 제곱 오차 사용)\n",
    "print(\"KNN\")\n",
    "mse = mean_squared_error(y_pred, Two_y_test)\n",
    "print(\"평균제곱근오차:\", mse)"
   ]
  },
  {
   "cell_type": "markdown",
   "id": "56e64d1d",
   "metadata": {},
   "source": [
    "---------"
   ]
  },
  {
   "cell_type": "markdown",
   "id": "f6a7a556",
   "metadata": {},
   "source": [
    "<h3>Medinc와 AveRooms + 다음으로 관계 높은 Latitude도 추가해서 3개의 피쳐를 쓴 모델"
   ]
  },
  {
   "cell_type": "code",
   "execution_count": 27,
   "id": "4b7c5c69",
   "metadata": {},
   "outputs": [
    {
     "data": {
      "text/html": [
       "<div>\n",
       "<style scoped>\n",
       "    .dataframe tbody tr th:only-of-type {\n",
       "        vertical-align: middle;\n",
       "    }\n",
       "\n",
       "    .dataframe tbody tr th {\n",
       "        vertical-align: top;\n",
       "    }\n",
       "\n",
       "    .dataframe thead th {\n",
       "        text-align: right;\n",
       "    }\n",
       "</style>\n",
       "<table border=\"1\" class=\"dataframe\">\n",
       "  <thead>\n",
       "    <tr style=\"text-align: right;\">\n",
       "      <th></th>\n",
       "      <th>MedInc</th>\n",
       "      <th>AveRooms</th>\n",
       "      <th>Latitude</th>\n",
       "    </tr>\n",
       "  </thead>\n",
       "  <tbody>\n",
       "    <tr>\n",
       "      <th>0</th>\n",
       "      <td>8.3252</td>\n",
       "      <td>6.984127</td>\n",
       "      <td>37.88</td>\n",
       "    </tr>\n",
       "    <tr>\n",
       "      <th>1</th>\n",
       "      <td>8.3014</td>\n",
       "      <td>6.238137</td>\n",
       "      <td>37.86</td>\n",
       "    </tr>\n",
       "    <tr>\n",
       "      <th>2</th>\n",
       "      <td>7.2574</td>\n",
       "      <td>8.288136</td>\n",
       "      <td>37.85</td>\n",
       "    </tr>\n",
       "    <tr>\n",
       "      <th>3</th>\n",
       "      <td>5.6431</td>\n",
       "      <td>5.817352</td>\n",
       "      <td>37.85</td>\n",
       "    </tr>\n",
       "    <tr>\n",
       "      <th>4</th>\n",
       "      <td>3.8462</td>\n",
       "      <td>6.281853</td>\n",
       "      <td>37.85</td>\n",
       "    </tr>\n",
       "  </tbody>\n",
       "</table>\n",
       "</div>"
      ],
      "text/plain": [
       "   MedInc  AveRooms  Latitude\n",
       "0  8.3252  6.984127     37.88\n",
       "1  8.3014  6.238137     37.86\n",
       "2  7.2574  8.288136     37.85\n",
       "3  5.6431  5.817352     37.85\n",
       "4  3.8462  6.281853     37.85"
      ]
     },
     "execution_count": 27,
     "metadata": {},
     "output_type": "execute_result"
    }
   ],
   "source": [
    "Tree_drop_FT = ['HouseAge', 'AveBedrms','Population','AveOccup','Longitude','PRICE']\n",
    "\n",
    "Tree_X = df.drop(Tree_drop_FT,axis=1)\n",
    "Tree_X.head()"
   ]
  },
  {
   "cell_type": "code",
   "execution_count": 28,
   "id": "05e186f0",
   "metadata": {},
   "outputs": [
    {
     "data": {
      "text/plain": [
       "0    4.526\n",
       "1    3.585\n",
       "2    3.521\n",
       "3    3.413\n",
       "4    3.422\n",
       "Name: PRICE, dtype: float64"
      ]
     },
     "execution_count": 28,
     "metadata": {},
     "output_type": "execute_result"
    }
   ],
   "source": [
    "Tree_y = df['PRICE']\n",
    "Tree_y.head()"
   ]
  },
  {
   "cell_type": "code",
   "execution_count": 29,
   "id": "f6d4a63d",
   "metadata": {},
   "outputs": [
    {
     "name": "stdout",
     "output_type": "stream",
     "text": [
      "(16512, 3) (16512,)\n",
      "(4128, 3) (4128,)\n"
     ]
    }
   ],
   "source": [
    "from sklearn.model_selection import train_test_split\n",
    "\n",
    "Tree_X_train, Tree_X_test, Tree_y_train, Tree_y_test=train_test_split(Tree_X,\n",
    "                                                  Tree_y,\n",
    "                                                  test_size=0.2,\n",
    "                                                  shuffle=True,\n",
    "                                                  random_state=12)\n",
    "print(Tree_X_train.shape, Tree_y_train.shape)\n",
    "print(Tree_X_test.shape, Tree_y_test.shape)"
   ]
  },
  {
   "cell_type": "code",
   "execution_count": 30,
   "id": "6b81c669",
   "metadata": {},
   "outputs": [
    {
     "name": "stdout",
     "output_type": "stream",
     "text": [
      "선형 회귀\n",
      "평균제곱근오차 0.6837417052679097\n"
     ]
    }
   ],
   "source": [
    "from sklearn.linear_model import LinearRegression\n",
    "from sklearn.metrics import mean_squared_error\n",
    "\n",
    "model = LinearRegression()\n",
    "model.fit(Tree_X_train, Tree_y_train)\n",
    "ly_preds = model.predict(Tree_X_test)\n",
    "\n",
    "print(\"선형 회귀\")\n",
    "print('평균제곱근오차', mean_squared_error(ly_preds, Tree_y_test))\n"
   ]
  },
  {
   "cell_type": "code",
   "execution_count": 31,
   "id": "cb87c889",
   "metadata": {},
   "outputs": [
    {
     "name": "stdout",
     "output_type": "stream",
     "text": [
      "디시전 트리\n",
      "평균제곱근오차 0.9636320965075096\n"
     ]
    }
   ],
   "source": [
    "from sklearn.tree import DecisionTreeRegressor\n",
    "\n",
    "model = DecisionTreeRegressor()\n",
    "model.fit(Tree_X_train, Tree_y_train)\n",
    "\n",
    "from sklearn.metrics import mean_squared_error\n",
    "\n",
    "dy_preds = model.predict(Tree_X_test)\n",
    "\n",
    "print(\"디시전 트리\")\n",
    "print('평균제곱근오차', mean_squared_error(dy_preds, Tree_y_test))"
   ]
  },
  {
   "cell_type": "code",
   "execution_count": 32,
   "id": "d7f476bd",
   "metadata": {},
   "outputs": [
    {
     "name": "stdout",
     "output_type": "stream",
     "text": [
      "랜덤포레스트\n",
      "평균제곱근오차 0.512703457541522\n"
     ]
    }
   ],
   "source": [
    "from sklearn.ensemble import RandomForestRegressor\n",
    "\n",
    "model = RandomForestRegressor()\n",
    "model.fit(Tree_X_train, Tree_y_train)\n",
    "\n",
    "from sklearn.metrics import mean_squared_error\n",
    "\n",
    "ry_preds = model.predict(Tree_X_test)\n",
    "\n",
    "print(\"랜덤포레스트\")\n",
    "print('평균제곱근오차', mean_squared_error(ry_preds, Tree_y_test))"
   ]
  },
  {
   "cell_type": "code",
   "execution_count": 33,
   "id": "58b2d22b",
   "metadata": {},
   "outputs": [],
   "source": [
    "#from sklearn.svm import SVR\n",
    "#\n",
    "#model = SVR(kernel='linear')\n",
    "#model.fit(Tree_X_train, Tree_y_train)\n",
    "#\n",
    "#from sklearn.metrics import mean_squared_error\n",
    "#\n",
    "#ry_preds = model.predict(Tree_X_test)\n",
    "#\n",
    "#print(\"SVR\")\n",
    "#print('평균제곱근오차', mean_squared_error(ry_preds, Tree_y_test))\n",
    "\n",
    "#할려 했는데 너무 느려서 컷"
   ]
  },
  {
   "cell_type": "code",
   "execution_count": 34,
   "id": "0c99b004",
   "metadata": {},
   "outputs": [
    {
     "name": "stdout",
     "output_type": "stream",
     "text": [
      "KNN\n",
      "평균제곱근오차: 0.6105549467515639\n"
     ]
    }
   ],
   "source": [
    "from sklearn.neighbors import KNeighborsRegressor\n",
    "from sklearn.datasets import make_regression\n",
    "from sklearn.model_selection import train_test_split\n",
    "from sklearn.metrics import mean_squared_error\n",
    "\n",
    "\n",
    "k = 5  # 이웃의 수 설정\n",
    "knn_regressor = KNeighborsRegressor(n_neighbors=k)\n",
    "\n",
    "knn_regressor.fit(Tree_X_train, Tree_y_train)\n",
    "\n",
    "y_pred = knn_regressor.predict(Tree_X_test)\n",
    "\n",
    "\n",
    "# 모델 성능 평가 (예시로 평균 제곱 오차 사용)\n",
    "print(\"KNN\")\n",
    "mse = mean_squared_error(y_pred, Tree_y_test)\n",
    "print(\"평균제곱근오차:\", mse)"
   ]
  },
  {
   "cell_type": "markdown",
   "id": "bebc9de1",
   "metadata": {},
   "source": [
    "---------"
   ]
  },
  {
   "cell_type": "markdown",
   "id": "26bf16d4",
   "metadata": {},
   "source": [
    "ALL\n",
    "\n",
    "선형 회귀 <br>\n",
    "평균제곱근오차 0.5269927956248035<br>\n",
    "디시전 트리<br>\n",
    "평균제곱근오차 0.4884177080423207<br>\n",
    "랜덤포레스트<br>\n",
    "평균제곱근오차 0.25084898502384867<br>\n",
    "KNN<br>\n",
    "평균제곱근오차: 1.1557853715421391<br>\n",
    "<br>\n",
    "1개<br>\n",
    "선형 회귀<br>\n",
    "평균제곱근오차 0.7028749315031905<br>\n",
    "디시전 트리<br>\n",
    "평균제곱근오차 1.1702564942080804<br>\n",
    "랜덤포레스트<br>\n",
    "평균제곱근오차 0.9441296762056886<br>\n",
    "KNN<br>\n",
    "평균제곱근오차: 0.8207580371394012<br>\n",
    "<br>\n",
    "2개<br>\n",
    "선형 회귀<br>\n",
    "평균제곱근오차 0.6916011698420803<br>\n",
    "디시전 트리<br>\n",
    "평균제곱근오차 1.1973053450349807<br>\n",
    "랜덤포레스트<br>\n",
    "평균제곱근오차 0.68354494576417<br>\n",
    "KNN<br>\n",
    "평균제곱근오차: 0.6881675668607915<br>\n",
    "<br>\n",
    "3개<br>\n",
    "선형 회귀<br>\n",
    "평균제곱근오차 0.6837417052679097<br>\n",
    "디시전 트리<br>\n",
    "평균제곱근오차 0.9503907278544089<br>\n",
    "랜덤포레스트<br>\n",
    "평균제곱근오차 0.5130244388257551<br>\n",
    "KNN<br>\n",
    "평균제곱근오차: 0.6105549467515639<br>"
   ]
  },
  {
   "cell_type": "markdown",
   "id": "55a12537",
   "metadata": {},
   "source": [
    "-------"
   ]
  },
  {
   "cell_type": "markdown",
   "id": "e9621fd7",
   "metadata": {},
   "source": [
    "<h3> 결론"
   ]
  },
  {
   "cell_type": "markdown",
   "id": "bb15ad02",
   "metadata": {},
   "source": [
    "관련도 높은 것만 뽑은 모델1,2,3 전부 다 그냥 다 넣은 모델보다 MSE가 높게 나왔다.<br>\n",
    "<br>\n",
    "이 이유는 애초에 데이터가 너무 적어서 안그래도 적은 데이터 select한다고 더 적어져 언더 피팅이 예상된다.<br>\n",
    "<br>\n",
    "그렇기 때문에 1개, 2개, 3개 피쳐를 쓰는 걸 비교해보면 점차 데이터량이 많아져서 MSE가 낮아진다.<br>"
   ]
  },
  {
   "cell_type": "code",
   "execution_count": null,
   "id": "390cffa4",
   "metadata": {},
   "outputs": [],
   "source": []
  }
 ],
 "metadata": {
  "kernelspec": {
   "display_name": "Python 3 (ipykernel)",
   "language": "python",
   "name": "python3"
  },
  "language_info": {
   "codemirror_mode": {
    "name": "ipython",
    "version": 3
   },
   "file_extension": ".py",
   "mimetype": "text/x-python",
   "name": "python",
   "nbconvert_exporter": "python",
   "pygments_lexer": "ipython3",
   "version": "3.9.13"
  }
 },
 "nbformat": 4,
 "nbformat_minor": 5
}
