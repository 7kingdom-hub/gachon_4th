{
 "cells": [
  {
   "cell_type": "code",
   "execution_count": 1,
   "id": "5807fd78",
   "metadata": {},
   "outputs": [],
   "source": [
    "import datetime\n",
    "import time\n",
    "import pandas as pd\n",
    "import numpy as np\n",
    "import matplotlib.pyplot as plt\n",
    "import tensorflow as tf"
   ]
  },
  {
   "cell_type": "code",
   "execution_count": 2,
   "id": "bc346964",
   "metadata": {},
   "outputs": [
    {
     "name": "stdout",
     "output_type": "stream",
     "text": [
      "            일자     종목코드   종목명       거래량     시가     고가     저가     종가\n",
      "746   20210601  A005930  삼성전자  14058401  80500  81300  80100  80600\n",
      "2746  20210602  A005930  삼성전자  16414644  80400  81400  80300  80800\n",
      "4746  20210603  A005930  삼성전자  29546007  81300  83000  81100  82800\n",
      "6746  20210604  A005930  삼성전자  18112259  82700  82700  81500  82200\n",
      "8746  20210607  A005930  삼성전자  16496197  82700  82800  81600  81900\n"
     ]
    }
   ],
   "source": [
    "stock = pd.read_csv(\"C:/Users/7kingdom/Documents/인공지능개론/src/stock.csv\")\n",
    "\n",
    "samsung_stock = stock[stock['종목명'] == '삼성전자']\n",
    "print(samsung_stock.head())"
   ]
  },
  {
   "cell_type": "code",
   "execution_count": 3,
   "id": "40ca97bd",
   "metadata": {},
   "outputs": [],
   "source": [
    "stock.columns = ['Date', 'Code', 'Name', 'Volume', 'Open', 'High', 'Low','Close']"
   ]
  },
  {
   "cell_type": "code",
   "execution_count": 4,
   "id": "64ebd216",
   "metadata": {},
   "outputs": [
    {
     "data": {
      "text/plain": [
       "3S         494\n",
       "유화증권       494\n",
       "이녹스        494\n",
       "이노테라피      494\n",
       "이노와이어리스    494\n",
       "          ... \n",
       "바이브컴퍼니     494\n",
       "바이넥스       494\n",
       "바른손이앤에이    494\n",
       "바른손        494\n",
       "힘스         494\n",
       "Name: Name, Length: 2000, dtype: int64"
      ]
     },
     "execution_count": 4,
     "metadata": {},
     "output_type": "execute_result"
    }
   ],
   "source": [
    "stock['Name'].value_counts()"
   ]
  },
  {
   "cell_type": "code",
   "execution_count": 5,
   "id": "5325c3e6",
   "metadata": {},
   "outputs": [],
   "source": [
    "stock_AJ = stock[stock['Code']=='A005930']"
   ]
  },
  {
   "cell_type": "code",
   "execution_count": 6,
   "id": "73843e92",
   "metadata": {},
   "outputs": [],
   "source": [
    "stock_AJ = stock_AJ [['Date', 'Open', 'High', 'Low', 'Close', 'Volume']]"
   ]
  },
  {
   "cell_type": "code",
   "execution_count": 7,
   "id": "437a6eb6",
   "metadata": {},
   "outputs": [
    {
     "data": {
      "text/html": [
       "<div>\n",
       "<style scoped>\n",
       "    .dataframe tbody tr th:only-of-type {\n",
       "        vertical-align: middle;\n",
       "    }\n",
       "\n",
       "    .dataframe tbody tr th {\n",
       "        vertical-align: top;\n",
       "    }\n",
       "\n",
       "    .dataframe thead th {\n",
       "        text-align: right;\n",
       "    }\n",
       "</style>\n",
       "<table border=\"1\" class=\"dataframe\">\n",
       "  <thead>\n",
       "    <tr style=\"text-align: right;\">\n",
       "      <th></th>\n",
       "      <th>Date</th>\n",
       "      <th>Open</th>\n",
       "      <th>High</th>\n",
       "      <th>Low</th>\n",
       "      <th>Close</th>\n",
       "      <th>Volume</th>\n",
       "    </tr>\n",
       "  </thead>\n",
       "  <tbody>\n",
       "    <tr>\n",
       "      <th>746</th>\n",
       "      <td>20210601</td>\n",
       "      <td>80500</td>\n",
       "      <td>81300</td>\n",
       "      <td>80100</td>\n",
       "      <td>80600</td>\n",
       "      <td>14058401</td>\n",
       "    </tr>\n",
       "    <tr>\n",
       "      <th>2746</th>\n",
       "      <td>20210602</td>\n",
       "      <td>80400</td>\n",
       "      <td>81400</td>\n",
       "      <td>80300</td>\n",
       "      <td>80800</td>\n",
       "      <td>16414644</td>\n",
       "    </tr>\n",
       "    <tr>\n",
       "      <th>4746</th>\n",
       "      <td>20210603</td>\n",
       "      <td>81300</td>\n",
       "      <td>83000</td>\n",
       "      <td>81100</td>\n",
       "      <td>82800</td>\n",
       "      <td>29546007</td>\n",
       "    </tr>\n",
       "    <tr>\n",
       "      <th>6746</th>\n",
       "      <td>20210604</td>\n",
       "      <td>82700</td>\n",
       "      <td>82700</td>\n",
       "      <td>81500</td>\n",
       "      <td>82200</td>\n",
       "      <td>18112259</td>\n",
       "    </tr>\n",
       "    <tr>\n",
       "      <th>8746</th>\n",
       "      <td>20210607</td>\n",
       "      <td>82700</td>\n",
       "      <td>82800</td>\n",
       "      <td>81600</td>\n",
       "      <td>81900</td>\n",
       "      <td>16496197</td>\n",
       "    </tr>\n",
       "    <tr>\n",
       "      <th>...</th>\n",
       "      <td>...</td>\n",
       "      <td>...</td>\n",
       "      <td>...</td>\n",
       "      <td>...</td>\n",
       "      <td>...</td>\n",
       "      <td>...</td>\n",
       "    </tr>\n",
       "    <tr>\n",
       "      <th>978746</th>\n",
       "      <td>20230523</td>\n",
       "      <td>68500</td>\n",
       "      <td>68700</td>\n",
       "      <td>68100</td>\n",
       "      <td>68400</td>\n",
       "      <td>8561643</td>\n",
       "    </tr>\n",
       "    <tr>\n",
       "      <th>980746</th>\n",
       "      <td>20230524</td>\n",
       "      <td>68100</td>\n",
       "      <td>68700</td>\n",
       "      <td>68000</td>\n",
       "      <td>68500</td>\n",
       "      <td>8192896</td>\n",
       "    </tr>\n",
       "    <tr>\n",
       "      <th>982746</th>\n",
       "      <td>20230525</td>\n",
       "      <td>69900</td>\n",
       "      <td>70000</td>\n",
       "      <td>68700</td>\n",
       "      <td>68800</td>\n",
       "      <td>14231160</td>\n",
       "    </tr>\n",
       "    <tr>\n",
       "      <th>984746</th>\n",
       "      <td>20230526</td>\n",
       "      <td>69800</td>\n",
       "      <td>70400</td>\n",
       "      <td>69500</td>\n",
       "      <td>70300</td>\n",
       "      <td>19549511</td>\n",
       "    </tr>\n",
       "    <tr>\n",
       "      <th>986746</th>\n",
       "      <td>20230530</td>\n",
       "      <td>71300</td>\n",
       "      <td>72300</td>\n",
       "      <td>71200</td>\n",
       "      <td>72300</td>\n",
       "      <td>27476897</td>\n",
       "    </tr>\n",
       "  </tbody>\n",
       "</table>\n",
       "<p>494 rows × 6 columns</p>\n",
       "</div>"
      ],
      "text/plain": [
       "            Date   Open   High    Low  Close    Volume\n",
       "746     20210601  80500  81300  80100  80600  14058401\n",
       "2746    20210602  80400  81400  80300  80800  16414644\n",
       "4746    20210603  81300  83000  81100  82800  29546007\n",
       "6746    20210604  82700  82700  81500  82200  18112259\n",
       "8746    20210607  82700  82800  81600  81900  16496197\n",
       "...          ...    ...    ...    ...    ...       ...\n",
       "978746  20230523  68500  68700  68100  68400   8561643\n",
       "980746  20230524  68100  68700  68000  68500   8192896\n",
       "982746  20230525  69900  70000  68700  68800  14231160\n",
       "984746  20230526  69800  70400  69500  70300  19549511\n",
       "986746  20230530  71300  72300  71200  72300  27476897\n",
       "\n",
       "[494 rows x 6 columns]"
      ]
     },
     "execution_count": 7,
     "metadata": {},
     "output_type": "execute_result"
    }
   ],
   "source": [
    "stock_AJ"
   ]
  },
  {
   "cell_type": "code",
   "execution_count": 8,
   "id": "17d5d227",
   "metadata": {},
   "outputs": [
    {
     "data": {
      "text/plain": [
       "20210601    1\n",
       "20221017    1\n",
       "20221013    1\n",
       "20221012    1\n",
       "20221011    1\n",
       "           ..\n",
       "20220120    1\n",
       "20220119    1\n",
       "20220118    1\n",
       "20220117    1\n",
       "20230530    1\n",
       "Name: Date, Length: 494, dtype: int64"
      ]
     },
     "execution_count": 8,
     "metadata": {},
     "output_type": "execute_result"
    }
   ],
   "source": [
    "stock_AJ['Date'].value_counts()"
   ]
  },
  {
   "cell_type": "code",
   "execution_count": 9,
   "id": "1bdb97b8",
   "metadata": {},
   "outputs": [],
   "source": [
    "def MinMaxScaler(data):\n",
    "    \"\"\"최솟값과 최댓값을 이용하여 0 ~ 1 값으로 변환\"\"\"\n",
    "    numerator = data - np.min(data, 0)\n",
    "    denominator = np.max(data, 0) - np.min(data, 0)\n",
    "    # 0으로 나누기 에러가 발생하지 않도록 매우 작은 값(1e-7)을 더해서 나눔\n",
    "    return numerator / (denominator + 1e-7)"
   ]
  },
  {
   "cell_type": "code",
   "execution_count": 10,
   "id": "7694875c",
   "metadata": {},
   "outputs": [
    {
     "data": {
      "text/html": [
       "<div>\n",
       "<style scoped>\n",
       "    .dataframe tbody tr th:only-of-type {\n",
       "        vertical-align: middle;\n",
       "    }\n",
       "\n",
       "    .dataframe tbody tr th {\n",
       "        vertical-align: top;\n",
       "    }\n",
       "\n",
       "    .dataframe thead th {\n",
       "        text-align: right;\n",
       "    }\n",
       "</style>\n",
       "<table border=\"1\" class=\"dataframe\">\n",
       "  <thead>\n",
       "    <tr style=\"text-align: right;\">\n",
       "      <th></th>\n",
       "      <th>Open</th>\n",
       "      <th>High</th>\n",
       "      <th>Low</th>\n",
       "      <th>Volume</th>\n",
       "    </tr>\n",
       "  </thead>\n",
       "  <tbody>\n",
       "    <tr>\n",
       "      <th>746</th>\n",
       "      <td>0.909677</td>\n",
       "      <td>0.932660</td>\n",
       "      <td>0.937086</td>\n",
       "      <td>0.149371</td>\n",
       "    </tr>\n",
       "    <tr>\n",
       "      <th>2746</th>\n",
       "      <td>0.906452</td>\n",
       "      <td>0.936027</td>\n",
       "      <td>0.943709</td>\n",
       "      <td>0.191824</td>\n",
       "    </tr>\n",
       "    <tr>\n",
       "      <th>4746</th>\n",
       "      <td>0.935484</td>\n",
       "      <td>0.989899</td>\n",
       "      <td>0.970199</td>\n",
       "      <td>0.428413</td>\n",
       "    </tr>\n",
       "    <tr>\n",
       "      <th>6746</th>\n",
       "      <td>0.980645</td>\n",
       "      <td>0.979798</td>\n",
       "      <td>0.983444</td>\n",
       "      <td>0.222410</td>\n",
       "    </tr>\n",
       "    <tr>\n",
       "      <th>8746</th>\n",
       "      <td>0.980645</td>\n",
       "      <td>0.983165</td>\n",
       "      <td>0.986755</td>\n",
       "      <td>0.193293</td>\n",
       "    </tr>\n",
       "    <tr>\n",
       "      <th>...</th>\n",
       "      <td>...</td>\n",
       "      <td>...</td>\n",
       "      <td>...</td>\n",
       "      <td>...</td>\n",
       "    </tr>\n",
       "    <tr>\n",
       "      <th>978746</th>\n",
       "      <td>0.522581</td>\n",
       "      <td>0.508418</td>\n",
       "      <td>0.539735</td>\n",
       "      <td>0.050335</td>\n",
       "    </tr>\n",
       "    <tr>\n",
       "      <th>980746</th>\n",
       "      <td>0.509677</td>\n",
       "      <td>0.508418</td>\n",
       "      <td>0.536424</td>\n",
       "      <td>0.043691</td>\n",
       "    </tr>\n",
       "    <tr>\n",
       "      <th>982746</th>\n",
       "      <td>0.567742</td>\n",
       "      <td>0.552189</td>\n",
       "      <td>0.559603</td>\n",
       "      <td>0.152484</td>\n",
       "    </tr>\n",
       "    <tr>\n",
       "      <th>984746</th>\n",
       "      <td>0.564516</td>\n",
       "      <td>0.565657</td>\n",
       "      <td>0.586093</td>\n",
       "      <td>0.248305</td>\n",
       "    </tr>\n",
       "    <tr>\n",
       "      <th>986746</th>\n",
       "      <td>0.612903</td>\n",
       "      <td>0.629630</td>\n",
       "      <td>0.642384</td>\n",
       "      <td>0.391134</td>\n",
       "    </tr>\n",
       "  </tbody>\n",
       "</table>\n",
       "<p>494 rows × 4 columns</p>\n",
       "</div>"
      ],
      "text/plain": [
       "            Open      High       Low    Volume\n",
       "746     0.909677  0.932660  0.937086  0.149371\n",
       "2746    0.906452  0.936027  0.943709  0.191824\n",
       "4746    0.935484  0.989899  0.970199  0.428413\n",
       "6746    0.980645  0.979798  0.983444  0.222410\n",
       "8746    0.980645  0.983165  0.986755  0.193293\n",
       "...          ...       ...       ...       ...\n",
       "978746  0.522581  0.508418  0.539735  0.050335\n",
       "980746  0.509677  0.508418  0.536424  0.043691\n",
       "982746  0.567742  0.552189  0.559603  0.152484\n",
       "984746  0.564516  0.565657  0.586093  0.248305\n",
       "986746  0.612903  0.629630  0.642384  0.391134\n",
       "\n",
       "[494 rows x 4 columns]"
      ]
     },
     "execution_count": 10,
     "metadata": {},
     "output_type": "execute_result"
    }
   ],
   "source": [
    "dfx = stock_AJ[['Open','High','Low','Volume', 'Close']]\n",
    "dfx = MinMaxScaler(dfx)\n",
    "dfy = dfx[['Close']]\n",
    "dfx = dfx[['Open','High','Low','Volume']]\n",
    "dfx"
   ]
  },
  {
   "cell_type": "code",
   "execution_count": 11,
   "id": "14071d00",
   "metadata": {},
   "outputs": [
    {
     "data": {
      "text/html": [
       "<div>\n",
       "<style scoped>\n",
       "    .dataframe tbody tr th:only-of-type {\n",
       "        vertical-align: middle;\n",
       "    }\n",
       "\n",
       "    .dataframe tbody tr th {\n",
       "        vertical-align: top;\n",
       "    }\n",
       "\n",
       "    .dataframe thead th {\n",
       "        text-align: right;\n",
       "    }\n",
       "</style>\n",
       "<table border=\"1\" class=\"dataframe\">\n",
       "  <thead>\n",
       "    <tr style=\"text-align: right;\">\n",
       "      <th></th>\n",
       "      <th>Open</th>\n",
       "      <th>High</th>\n",
       "      <th>Low</th>\n",
       "      <th>Volume</th>\n",
       "    </tr>\n",
       "  </thead>\n",
       "  <tbody>\n",
       "    <tr>\n",
       "      <th>count</th>\n",
       "      <td>494.000000</td>\n",
       "      <td>494.000000</td>\n",
       "      <td>494.000000</td>\n",
       "      <td>494.000000</td>\n",
       "    </tr>\n",
       "    <tr>\n",
       "      <th>mean</th>\n",
       "      <td>0.491550</td>\n",
       "      <td>0.485639</td>\n",
       "      <td>0.502098</td>\n",
       "      <td>0.161701</td>\n",
       "    </tr>\n",
       "    <tr>\n",
       "      <th>std</th>\n",
       "      <td>0.256053</td>\n",
       "      <td>0.265796</td>\n",
       "      <td>0.260946</td>\n",
       "      <td>0.098114</td>\n",
       "    </tr>\n",
       "    <tr>\n",
       "      <th>min</th>\n",
       "      <td>0.000000</td>\n",
       "      <td>0.000000</td>\n",
       "      <td>0.000000</td>\n",
       "      <td>0.000000</td>\n",
       "    </tr>\n",
       "    <tr>\n",
       "      <th>25%</th>\n",
       "      <td>0.274194</td>\n",
       "      <td>0.259259</td>\n",
       "      <td>0.281457</td>\n",
       "      <td>0.097524</td>\n",
       "    </tr>\n",
       "    <tr>\n",
       "      <th>50%</th>\n",
       "      <td>0.458065</td>\n",
       "      <td>0.449495</td>\n",
       "      <td>0.473510</td>\n",
       "      <td>0.140432</td>\n",
       "    </tr>\n",
       "    <tr>\n",
       "      <th>75%</th>\n",
       "      <td>0.709677</td>\n",
       "      <td>0.719697</td>\n",
       "      <td>0.725166</td>\n",
       "      <td>0.200042</td>\n",
       "    </tr>\n",
       "    <tr>\n",
       "      <th>max</th>\n",
       "      <td>1.000000</td>\n",
       "      <td>1.000000</td>\n",
       "      <td>1.000000</td>\n",
       "      <td>1.000000</td>\n",
       "    </tr>\n",
       "  </tbody>\n",
       "</table>\n",
       "</div>"
      ],
      "text/plain": [
       "             Open        High         Low      Volume\n",
       "count  494.000000  494.000000  494.000000  494.000000\n",
       "mean     0.491550    0.485639    0.502098    0.161701\n",
       "std      0.256053    0.265796    0.260946    0.098114\n",
       "min      0.000000    0.000000    0.000000    0.000000\n",
       "25%      0.274194    0.259259    0.281457    0.097524\n",
       "50%      0.458065    0.449495    0.473510    0.140432\n",
       "75%      0.709677    0.719697    0.725166    0.200042\n",
       "max      1.000000    1.000000    1.000000    1.000000"
      ]
     },
     "execution_count": 11,
     "metadata": {},
     "output_type": "execute_result"
    }
   ],
   "source": [
    "dfx.describe()"
   ]
  },
  {
   "cell_type": "code",
   "execution_count": 12,
   "id": "d95d6222",
   "metadata": {},
   "outputs": [],
   "source": [
    "# 두 데이터를 리스트 형태로 저장\n",
    "X = dfx.values.tolist()\n",
    "y = dfy.values.tolist()"
   ]
  },
  {
   "cell_type": "code",
   "execution_count": 13,
   "id": "28c588d3",
   "metadata": {},
   "outputs": [
    {
     "name": "stdout",
     "output_type": "stream",
     "text": [
      "[[0.5096774193531945, 0.5084175084157966, 0.5364238410578264, 0.043691427780116227], [0.5677419354820396, 0.5521885521866929, 0.5596026490047695, 0.1524836043682957], [0.564516129030437, 0.565656565654661, 0.5860927152298474, 0.24830501614325634]] -> [0.6501650164995044]\n"
     ]
    }
   ],
   "source": [
    "window_size = 3\n",
    "\n",
    "data_X = []\n",
    "data_y = []\n",
    "for i in range(len(y) - window_size):\n",
    "    _X = X[i : i + window_size] # 다음 날 종가(i+windows_size)는 포함되지 않음\n",
    "    _y = y[i + window_size]     # 다음 날 종가\n",
    "    data_X.append(_X)\n",
    "    data_y.append(_y)\n",
    "print(_X, \"->\", _y)"
   ]
  },
  {
   "cell_type": "code",
   "execution_count": 14,
   "id": "f4a921d3",
   "metadata": {},
   "outputs": [
    {
     "name": "stdout",
     "output_type": "stream",
     "text": [
      "전체 데이터의 크기 : 491 491\n"
     ]
    }
   ],
   "source": [
    "\n",
    "print('전체 데이터의 크기 :', len(data_X), len(data_y))"
   ]
  },
  {
   "cell_type": "code",
   "execution_count": 15,
   "id": "339f7cc0",
   "metadata": {},
   "outputs": [
    {
     "name": "stdout",
     "output_type": "stream",
     "text": [
      "훈련 데이터의 크기 : (343, 3, 4) (343, 1)\n",
      "테스트 데이터의 크기 : (148, 3, 4) (148, 1)\n"
     ]
    }
   ],
   "source": [
    "train_size = int(len(data_y) * 0.7)\n",
    "train_X = np.array(data_X[0 : train_size])\n",
    "train_y = np.array(data_y[0 : train_size])\n",
    "\n",
    "test_size = len(data_y) - train_size\n",
    "test_X = np.array(data_X[train_size : len(data_X)])\n",
    "test_y = np.array(data_y[train_size : len(data_y)])\n",
    "\n",
    "print('훈련 데이터의 크기 :', train_X.shape, train_y.shape)\n",
    "print('테스트 데이터의 크기 :', test_X.shape, test_y.shape)"
   ]
  },
  {
   "cell_type": "code",
   "execution_count": 16,
   "id": "27474830",
   "metadata": {},
   "outputs": [],
   "source": [
    "\n",
    "from tensorflow.keras import Sequential\n",
    "from tensorflow.keras.layers import Dense, LSTM, Dropout, RNN, SimpleRNN"
   ]
  },
  {
   "cell_type": "code",
   "execution_count": 17,
   "id": "4354ee6d",
   "metadata": {},
   "outputs": [
    {
     "name": "stdout",
     "output_type": "stream",
     "text": [
      "Model: \"sequential\"\n",
      "_________________________________________________________________\n",
      " Layer (type)                Output Shape              Param #   \n",
      "=================================================================\n",
      " lstm (LSTM)                 (None, 3, 20)             2000      \n",
      "                                                                 \n",
      " dropout (Dropout)           (None, 3, 20)             0         \n",
      "                                                                 \n",
      " simple_rnn (SimpleRNN)      (None, 20)                820       \n",
      "                                                                 \n",
      " dropout_1 (Dropout)         (None, 20)                0         \n",
      "                                                                 \n",
      " dense (Dense)               (None, 1)                 21        \n",
      "                                                                 \n",
      "=================================================================\n",
      "Total params: 2,841\n",
      "Trainable params: 2,841\n",
      "Non-trainable params: 0\n",
      "_________________________________________________________________\n"
     ]
    }
   ],
   "source": [
    "model = Sequential()\n",
    "model.add(LSTM(units=20, activation='relu', return_sequences=True, input_shape=(3, 4)))\n",
    "model.add(Dropout(0.1))\n",
    "model.add(SimpleRNN(units=20, activation='relu'))\n",
    "model.add(Dropout(0.1))\n",
    "model.add(Dense(units=1))\n",
    "model.summary()\n"
   ]
  },
  {
   "cell_type": "code",
   "execution_count": 18,
   "id": "ae32608a",
   "metadata": {},
   "outputs": [
    {
     "name": "stdout",
     "output_type": "stream",
     "text": [
      "Epoch 1/70\n",
      "12/12 [==============================] - 2s 5ms/step - loss: 0.3771\n",
      "Epoch 2/70\n",
      "12/12 [==============================] - 0s 5ms/step - loss: 0.2881\n",
      "Epoch 3/70\n",
      "12/12 [==============================] - 0s 6ms/step - loss: 0.2224\n",
      "Epoch 4/70\n",
      "12/12 [==============================] - 0s 5ms/step - loss: 0.1359\n",
      "Epoch 5/70\n",
      "12/12 [==============================] - 0s 5ms/step - loss: 0.0517\n",
      "Epoch 6/70\n",
      "12/12 [==============================] - 0s 5ms/step - loss: 0.0328\n",
      "Epoch 7/70\n",
      "12/12 [==============================] - 0s 5ms/step - loss: 0.0251\n",
      "Epoch 8/70\n",
      "12/12 [==============================] - 0s 4ms/step - loss: 0.0221\n",
      "Epoch 9/70\n",
      "12/12 [==============================] - 0s 5ms/step - loss: 0.0205\n",
      "Epoch 10/70\n",
      "12/12 [==============================] - 0s 6ms/step - loss: 0.0179\n",
      "Epoch 11/70\n",
      "12/12 [==============================] - 0s 6ms/step - loss: 0.0145\n",
      "Epoch 12/70\n",
      "12/12 [==============================] - 0s 6ms/step - loss: 0.0149\n",
      "Epoch 13/70\n",
      "12/12 [==============================] - 0s 7ms/step - loss: 0.0134\n",
      "Epoch 14/70\n",
      "12/12 [==============================] - 0s 5ms/step - loss: 0.0130\n",
      "Epoch 15/70\n",
      "12/12 [==============================] - 0s 5ms/step - loss: 0.0124\n",
      "Epoch 16/70\n",
      "12/12 [==============================] - 0s 5ms/step - loss: 0.0122\n",
      "Epoch 17/70\n",
      "12/12 [==============================] - 0s 5ms/step - loss: 0.0122\n",
      "Epoch 18/70\n",
      "12/12 [==============================] - 0s 4ms/step - loss: 0.0128\n",
      "Epoch 19/70\n",
      "12/12 [==============================] - 0s 5ms/step - loss: 0.0139\n",
      "Epoch 20/70\n",
      "12/12 [==============================] - 0s 5ms/step - loss: 0.0139\n",
      "Epoch 21/70\n",
      "12/12 [==============================] - 0s 5ms/step - loss: 0.0121\n",
      "Epoch 22/70\n",
      "12/12 [==============================] - 0s 5ms/step - loss: 0.0156\n",
      "Epoch 23/70\n",
      "12/12 [==============================] - 0s 7ms/step - loss: 0.0112\n",
      "Epoch 24/70\n",
      "12/12 [==============================] - 0s 5ms/step - loss: 0.0098\n",
      "Epoch 25/70\n",
      "12/12 [==============================] - 0s 5ms/step - loss: 0.0119\n",
      "Epoch 26/70\n",
      "12/12 [==============================] - 0s 5ms/step - loss: 0.0131\n",
      "Epoch 27/70\n",
      "12/12 [==============================] - 0s 5ms/step - loss: 0.0096\n",
      "Epoch 28/70\n",
      "12/12 [==============================] - 0s 5ms/step - loss: 0.0117\n",
      "Epoch 29/70\n",
      "12/12 [==============================] - 0s 5ms/step - loss: 0.0107\n",
      "Epoch 30/70\n",
      "12/12 [==============================] - 0s 5ms/step - loss: 0.0096\n",
      "Epoch 31/70\n",
      "12/12 [==============================] - 0s 6ms/step - loss: 0.0098\n",
      "Epoch 32/70\n",
      "12/12 [==============================] - 0s 5ms/step - loss: 0.0125\n",
      "Epoch 33/70\n",
      "12/12 [==============================] - 0s 5ms/step - loss: 0.0136\n",
      "Epoch 34/70\n",
      "12/12 [==============================] - 0s 6ms/step - loss: 0.0104\n",
      "Epoch 35/70\n",
      "12/12 [==============================] - 0s 5ms/step - loss: 0.0103\n",
      "Epoch 36/70\n",
      "12/12 [==============================] - 0s 4ms/step - loss: 0.0104\n",
      "Epoch 37/70\n",
      "12/12 [==============================] - 0s 4ms/step - loss: 0.0096\n",
      "Epoch 38/70\n",
      "12/12 [==============================] - 0s 4ms/step - loss: 0.0100\n",
      "Epoch 39/70\n",
      "12/12 [==============================] - 0s 4ms/step - loss: 0.0087\n",
      "Epoch 40/70\n",
      "12/12 [==============================] - 0s 4ms/step - loss: 0.0113\n",
      "Epoch 41/70\n",
      "12/12 [==============================] - 0s 4ms/step - loss: 0.0120\n",
      "Epoch 42/70\n",
      "12/12 [==============================] - 0s 4ms/step - loss: 0.0089\n",
      "Epoch 43/70\n",
      "12/12 [==============================] - 0s 4ms/step - loss: 0.0100\n",
      "Epoch 44/70\n",
      "12/12 [==============================] - 0s 4ms/step - loss: 0.0094\n",
      "Epoch 45/70\n",
      "12/12 [==============================] - 0s 4ms/step - loss: 0.0103\n",
      "Epoch 46/70\n",
      "12/12 [==============================] - 0s 4ms/step - loss: 0.0100\n",
      "Epoch 47/70\n",
      "12/12 [==============================] - 0s 5ms/step - loss: 0.0092\n",
      "Epoch 48/70\n",
      "12/12 [==============================] - 0s 5ms/step - loss: 0.0089\n",
      "Epoch 49/70\n",
      "12/12 [==============================] - 0s 5ms/step - loss: 0.0087\n",
      "Epoch 50/70\n",
      "12/12 [==============================] - 0s 4ms/step - loss: 0.0091\n",
      "Epoch 51/70\n",
      "12/12 [==============================] - 0s 4ms/step - loss: 0.0095\n",
      "Epoch 52/70\n",
      "12/12 [==============================] - 0s 4ms/step - loss: 0.0084\n",
      "Epoch 53/70\n",
      "12/12 [==============================] - 0s 4ms/step - loss: 0.0079\n",
      "Epoch 54/70\n",
      "12/12 [==============================] - 0s 5ms/step - loss: 0.0090\n",
      "Epoch 55/70\n",
      "12/12 [==============================] - 0s 4ms/step - loss: 0.0089\n",
      "Epoch 56/70\n",
      "12/12 [==============================] - 0s 5ms/step - loss: 0.0091\n",
      "Epoch 57/70\n",
      "12/12 [==============================] - 0s 4ms/step - loss: 0.0072\n",
      "Epoch 58/70\n",
      "12/12 [==============================] - 0s 4ms/step - loss: 0.0081\n",
      "Epoch 59/70\n",
      "12/12 [==============================] - 0s 4ms/step - loss: 0.0082\n",
      "Epoch 60/70\n",
      "12/12 [==============================] - 0s 6ms/step - loss: 0.0085\n",
      "Epoch 61/70\n",
      "12/12 [==============================] - 0s 4ms/step - loss: 0.0076\n",
      "Epoch 62/70\n",
      "12/12 [==============================] - 0s 4ms/step - loss: 0.0080\n",
      "Epoch 63/70\n",
      "12/12 [==============================] - 0s 4ms/step - loss: 0.0087\n",
      "Epoch 64/70\n",
      "12/12 [==============================] - 0s 4ms/step - loss: 0.0084\n",
      "Epoch 65/70\n",
      "12/12 [==============================] - 0s 4ms/step - loss: 0.0076\n",
      "Epoch 66/70\n",
      "12/12 [==============================] - 0s 5ms/step - loss: 0.0088\n",
      "Epoch 67/70\n",
      "12/12 [==============================] - 0s 5ms/step - loss: 0.0074\n",
      "Epoch 68/70\n",
      "12/12 [==============================] - 0s 5ms/step - loss: 0.0084\n",
      "Epoch 69/70\n",
      "12/12 [==============================] - 0s 4ms/step - loss: 0.0088\n",
      "Epoch 70/70\n",
      "12/12 [==============================] - 0s 4ms/step - loss: 0.0078\n",
      "5/5 [==============================] - 0s 3ms/step\n"
     ]
    }
   ],
   "source": [
    "model.compile(optimizer='adam', loss='mean_squared_error')\n",
    "model.fit(train_X, train_y, epochs=70, batch_size=30)\n",
    "pred_y = model.predict(test_X)"
   ]
  },
  {
   "cell_type": "code",
   "execution_count": 19,
   "id": "a1c4ca2c",
   "metadata": {},
   "outputs": [
    {
     "name": "stdout",
     "output_type": "stream",
     "text": [
      "5/5 [==============================] - 0s 3ms/step - loss: 0.0022\n"
     ]
    },
    {
     "data": {
      "text/plain": [
       "0.0021726747509092093"
      ]
     },
     "execution_count": 19,
     "metadata": {},
     "output_type": "execute_result"
    }
   ],
   "source": [
    "model.evaluate(test_X, test_y)"
   ]
  },
  {
   "cell_type": "code",
   "execution_count": 20,
   "id": "688157e5",
   "metadata": {},
   "outputs": [
    {
     "name": "stdout",
     "output_type": "stream",
     "text": [
      "5/5 [==============================] - 0s 3ms/step\n"
     ]
    }
   ],
   "source": [
    "y_pred = model.predict(test_X)"
   ]
  },
  {
   "cell_type": "code",
   "execution_count": 21,
   "id": "2c680725",
   "metadata": {},
   "outputs": [
    {
     "name": "stdout",
     "output_type": "stream",
     "text": [
      "MSE: 0.0021726747149029683\n"
     ]
    }
   ],
   "source": [
    "mse = tf.reduce_mean(tf.square(test_y - y_pred))\n",
    "\n",
    "print(f'MSE: {mse.numpy()}')"
   ]
  },
  {
   "cell_type": "code",
   "execution_count": 22,
   "id": "cf224431",
   "metadata": {},
   "outputs": [
    {
     "name": "stdout",
     "output_type": "stream",
     "text": [
      "5/5 [==============================] - 0s 3ms/step\n"
     ]
    },
    {
     "data": {
      "image/png": "[encoded data removed]",
      "text/plain": [
       "<Figure size 640x480 with 1 Axes>"
      ]
     },
     "metadata": {},
     "output_type": "display_data"
    }
   ],
   "source": [
    "pred_y = model.predict(test_X)\n",
    "\n",
    "plt.figure()\n",
    "plt.plot(test_y, color='red', label='real stock price')\n",
    "plt.plot(pred_y, color='blue', label='predicted stock price')\n",
    "plt.title('stock price prediction')\n",
    "plt.xlabel('time')\n",
    "plt.ylabel('stock price')\n",
    "plt.legend()\n",
    "plt.show()"
   ]
  },
  {
   "cell_type": "code",
   "execution_count": null,
   "id": "07f12b85",
   "metadata": {},
   "outputs": [],
   "source": []
  }
 ],
 "metadata": {
  "kernelspec": {
   "display_name": "Python 3 (ipykernel)",
   "language": "python",
   "name": "python3"
  },
  "language_info": {
   "codemirror_mode": {
    "name": "ipython",
    "version": 3
   },
   "file_extension": ".py",
   "mimetype": "text/x-python",
   "name": "python",
   "nbconvert_exporter": "python",
   "pygments_lexer": "ipython3",
   "version": "3.9.13"
  }
 },
 "nbformat": 4,
 "nbformat_minor": 5
}
