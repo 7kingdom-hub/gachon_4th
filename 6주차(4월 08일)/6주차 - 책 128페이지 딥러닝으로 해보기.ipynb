{
 "cells": [
  {
   "cell_type": "code",
   "execution_count": 1,
   "id": "64141687",
   "metadata": {},
   "outputs": [],
   "source": [
    "import numpy as np\n",
    "import pandas as pd\n",
    "import seaborn as sns\n",
    "from sklearn.model_selection import train_test_split\n",
    "import tensorflow as tf\n",
    "from tensorflow import keras"
   ]
  },
  {
   "cell_type": "code",
   "execution_count": 2,
   "id": "90c0312c",
   "metadata": {},
   "outputs": [],
   "source": [
    "import matplotlib.pyplot as plt\n",
    "\n",
    "from sklearn import datasets, metrics\n",
    "from sklearn.model_selection import train_test_split\n",
    "\n",
    "digits = datasets.load_digits()\n",
    "n_samples = len(digits.images)\n",
    "data = digits.images.reshape((n_samples, -1))"
   ]
  },
  {
   "cell_type": "code",
   "execution_count": 3,
   "id": "a727b8df",
   "metadata": {},
   "outputs": [
    {
     "data": {
      "text/plain": [
       "array([[1, 0, 0, ..., 0, 0, 0],\n",
       "       [0, 1, 0, ..., 0, 0, 0],\n",
       "       [0, 0, 1, ..., 0, 0, 0],\n",
       "       ...,\n",
       "       [0, 0, 0, ..., 0, 1, 0],\n",
       "       [0, 0, 0, ..., 0, 0, 1],\n",
       "       [0, 0, 0, ..., 0, 1, 0]], dtype=uint8)"
      ]
     },
     "execution_count": 3,
     "metadata": {},
     "output_type": "execute_result"
    }
   ],
   "source": [
    "Y_data = digits.target\n",
    "\n",
    "Y = pd.get_dummies(Y_data).values\n",
    "\n",
    "Y"
   ]
  },
  {
   "cell_type": "code",
   "execution_count": 4,
   "id": "eae1b6e2",
   "metadata": {},
   "outputs": [
    {
     "data": {
      "text/plain": [
       "array([[ 0.,  0.,  5., ...,  0.,  0.,  0.],\n",
       "       [ 0.,  0.,  0., ..., 10.,  0.,  0.],\n",
       "       [ 0.,  0.,  0., ..., 16.,  9.,  0.],\n",
       "       ...,\n",
       "       [ 0.,  0.,  1., ...,  6.,  0.,  0.],\n",
       "       [ 0.,  0.,  2., ..., 12.,  0.,  0.],\n",
       "       [ 0.,  0., 10., ..., 12.,  1.,  0.]])"
      ]
     },
     "execution_count": 4,
     "metadata": {},
     "output_type": "execute_result"
    }
   ],
   "source": [
    "data"
   ]
  },
  {
   "cell_type": "code",
   "execution_count": 5,
   "id": "24a9e8bd",
   "metadata": {},
   "outputs": [],
   "source": [
    "X_train, X_test, y_train, y_test = train_test_split(\n",
    "    data, Y, test_size=0.2)"
   ]
  },
  {
   "cell_type": "code",
   "execution_count": 15,
   "id": "e1557564",
   "metadata": {},
   "outputs": [],
   "source": [
    "from keras.models import Sequential\n",
    "from keras.layers import Dense\n",
    "from keras.optimizers import SGD,Adam"
   ]
  },
  {
   "cell_type": "code",
   "execution_count": 11,
   "id": "8b14ab34",
   "metadata": {},
   "outputs": [
    {
     "name": "stdout",
     "output_type": "stream",
     "text": [
      "Model: \"sequential_1\"\n",
      "_________________________________________________________________\n",
      " Layer (type)                Output Shape              Param #   \n",
      "=================================================================\n",
      " flatten (Flatten)           (None, 64)                0         \n",
      "                                                                 \n",
      " dense_4 (Dense)             (None, 128)               8320      \n",
      "                                                                 \n",
      " dense_5 (Dense)             (None, 64)                8256      \n",
      "                                                                 \n",
      " dense_6 (Dense)             (None, 10)                650       \n",
      "                                                                 \n",
      "=================================================================\n",
      "Total params: 17,226\n",
      "Trainable params: 17,226\n",
      "Non-trainable params: 0\n",
      "_________________________________________________________________\n"
     ]
    }
   ],
   "source": [
    "model = keras.Sequential([\n",
    "    keras.layers.Flatten(input_shape=(64,)),\n",
    "    keras.layers.Dense(128, activation='relu'),\n",
    "    keras.layers.Dense(64, activation='relu'),\n",
    "    keras.layers.Dense(10, activation='softmax')\n",
    "])\n",
    "\n",
    "model.compile(optimizer='adam', loss='categorical_crossentropy', metrics=['accuracy'])\n",
    "\n",
    "model.summary()"
   ]
  },
  {
   "cell_type": "code",
   "execution_count": 12,
   "id": "2d1cec55",
   "metadata": {
    "scrolled": true
   },
   "outputs": [
    {
     "name": "stdout",
     "output_type": "stream",
     "text": [
      "Epoch 1/30\n",
      "45/45 [==============================] - 1s 7ms/step - loss: 1.5753 - accuracy: 0.6033 - val_loss: 0.3954 - val_accuracy: 0.8806\n",
      "Epoch 2/30\n",
      "45/45 [==============================] - 0s 4ms/step - loss: 0.2736 - accuracy: 0.9137 - val_loss: 0.2202 - val_accuracy: 0.9361\n",
      "Epoch 3/30\n",
      "45/45 [==============================] - 0s 4ms/step - loss: 0.1324 - accuracy: 0.9659 - val_loss: 0.1626 - val_accuracy: 0.9667\n",
      "Epoch 4/30\n",
      "45/45 [==============================] - 0s 4ms/step - loss: 0.0950 - accuracy: 0.9756 - val_loss: 0.1688 - val_accuracy: 0.9556\n",
      "Epoch 5/30\n",
      "45/45 [==============================] - 0s 4ms/step - loss: 0.0606 - accuracy: 0.9910 - val_loss: 0.1371 - val_accuracy: 0.9694\n",
      "Epoch 6/30\n",
      "45/45 [==============================] - 0s 4ms/step - loss: 0.0552 - accuracy: 0.9854 - val_loss: 0.1321 - val_accuracy: 0.9639\n",
      "Epoch 7/30\n",
      "45/45 [==============================] - 0s 4ms/step - loss: 0.0354 - accuracy: 0.9944 - val_loss: 0.1098 - val_accuracy: 0.9667\n",
      "Epoch 8/30\n",
      "45/45 [==============================] - 0s 4ms/step - loss: 0.0257 - accuracy: 0.9972 - val_loss: 0.1161 - val_accuracy: 0.9722\n",
      "Epoch 9/30\n",
      "45/45 [==============================] - 0s 4ms/step - loss: 0.0208 - accuracy: 0.9993 - val_loss: 0.1157 - val_accuracy: 0.9722\n",
      "Epoch 10/30\n",
      "45/45 [==============================] - 0s 4ms/step - loss: 0.0164 - accuracy: 0.9979 - val_loss: 0.1086 - val_accuracy: 0.9750\n",
      "Epoch 11/30\n",
      "45/45 [==============================] - 0s 4ms/step - loss: 0.0137 - accuracy: 0.9986 - val_loss: 0.1108 - val_accuracy: 0.9722\n",
      "Epoch 12/30\n",
      "45/45 [==============================] - 0s 4ms/step - loss: 0.0126 - accuracy: 0.9993 - val_loss: 0.1383 - val_accuracy: 0.9583\n",
      "Epoch 13/30\n",
      "45/45 [==============================] - 0s 4ms/step - loss: 0.0165 - accuracy: 0.9958 - val_loss: 0.1081 - val_accuracy: 0.9722\n",
      "Epoch 14/30\n",
      "45/45 [==============================] - 0s 4ms/step - loss: 0.0081 - accuracy: 1.0000 - val_loss: 0.1055 - val_accuracy: 0.9722\n",
      "Epoch 15/30\n",
      "45/45 [==============================] - 0s 5ms/step - loss: 0.0082 - accuracy: 1.0000 - val_loss: 0.1094 - val_accuracy: 0.9722\n",
      "Epoch 16/30\n",
      "45/45 [==============================] - 0s 4ms/step - loss: 0.0057 - accuracy: 1.0000 - val_loss: 0.1058 - val_accuracy: 0.9750\n",
      "Epoch 17/30\n",
      "45/45 [==============================] - 0s 4ms/step - loss: 0.0047 - accuracy: 1.0000 - val_loss: 0.1087 - val_accuracy: 0.9750\n",
      "Epoch 18/30\n",
      "45/45 [==============================] - 0s 4ms/step - loss: 0.0042 - accuracy: 1.0000 - val_loss: 0.1061 - val_accuracy: 0.9778\n",
      "Epoch 19/30\n",
      "45/45 [==============================] - 0s 4ms/step - loss: 0.0036 - accuracy: 1.0000 - val_loss: 0.1071 - val_accuracy: 0.9750\n",
      "Epoch 20/30\n",
      "45/45 [==============================] - 0s 4ms/step - loss: 0.0034 - accuracy: 1.0000 - val_loss: 0.1058 - val_accuracy: 0.9750\n",
      "Epoch 21/30\n",
      "45/45 [==============================] - 0s 4ms/step - loss: 0.0030 - accuracy: 1.0000 - val_loss: 0.1073 - val_accuracy: 0.9750\n",
      "Epoch 22/30\n",
      "45/45 [==============================] - 0s 4ms/step - loss: 0.0028 - accuracy: 1.0000 - val_loss: 0.1105 - val_accuracy: 0.9778\n",
      "Epoch 23/30\n",
      "45/45 [==============================] - 0s 4ms/step - loss: 0.0024 - accuracy: 1.0000 - val_loss: 0.1083 - val_accuracy: 0.9750\n",
      "Epoch 24/30\n",
      "45/45 [==============================] - 0s 4ms/step - loss: 0.0023 - accuracy: 1.0000 - val_loss: 0.1095 - val_accuracy: 0.9750\n",
      "Epoch 25/30\n",
      "45/45 [==============================] - 0s 4ms/step - loss: 0.0020 - accuracy: 1.0000 - val_loss: 0.1106 - val_accuracy: 0.9778\n",
      "Epoch 26/30\n",
      "45/45 [==============================] - 0s 4ms/step - loss: 0.0020 - accuracy: 1.0000 - val_loss: 0.1106 - val_accuracy: 0.9750\n",
      "Epoch 27/30\n",
      "45/45 [==============================] - 0s 4ms/step - loss: 0.0017 - accuracy: 1.0000 - val_loss: 0.1106 - val_accuracy: 0.9778\n",
      "Epoch 28/30\n",
      "45/45 [==============================] - 0s 4ms/step - loss: 0.0016 - accuracy: 1.0000 - val_loss: 0.1092 - val_accuracy: 0.9778\n",
      "Epoch 29/30\n",
      "45/45 [==============================] - 0s 5ms/step - loss: 0.0015 - accuracy: 1.0000 - val_loss: 0.1110 - val_accuracy: 0.9778\n",
      "Epoch 30/30\n",
      "45/45 [==============================] - 0s 4ms/step - loss: 0.0014 - accuracy: 1.0000 - val_loss: 0.1124 - val_accuracy: 0.9750\n",
      "12/12 [==============================] - 0s 2ms/step\n"
     ]
    }
   ],
   "source": [
    "model_history=model.fit(x=X_train, y=y_train, epochs=30, batch_size=32,validation_data= (X_test,y_test))\n",
    "y_pred = model.predict(X_test)\n",
    "\n",
    "y_test_class = np.argmax(y_test,axis=1)\n",
    "y_pred_class = np.argmax(y_pred,axis=1)"
   ]
  },
  {
   "cell_type": "code",
   "execution_count": 13,
   "id": "cad1eb1a",
   "metadata": {},
   "outputs": [
    {
     "data": {
      "image/png": "[encoded data removed]",
      "text/plain": [
       "<Figure size 640x480 with 1 Axes>"
      ]
     },
     "metadata": {},
     "output_type": "display_data"
    }
   ],
   "source": [
    "import matplotlib.pyplot as plt\n",
    "import seaborn as sns\n",
    "\n",
    "loss =model_history.history['loss']\n",
    "val_loss =model_history.history['val_loss']\n",
    "epochs = range(1, len(loss) + 1)\n",
    "plt.plot(epochs, loss, 'y', label='Training loss')\n",
    "plt.plot(epochs, val_loss, 'r', label='Validation loss')\n",
    "plt.title('Training and validation loss')\n",
    "plt.xlabel('Epochs')\n",
    "plt.ylabel('Loss')\n",
    "plt.legend()\n",
    "plt.show()"
   ]
  },
  {
   "cell_type": "code",
   "execution_count": 14,
   "id": "9a76cb6c",
   "metadata": {},
   "outputs": [
    {
     "name": "stdout",
     "output_type": "stream",
     "text": [
      "              precision    recall  f1-score   support\n",
      "\n",
      "           0       1.00      1.00      1.00        38\n",
      "           1       0.97      1.00      0.98        30\n",
      "           2       1.00      1.00      1.00        33\n",
      "           3       1.00      0.97      0.99        34\n",
      "           4       1.00      1.00      1.00        41\n",
      "           5       0.94      0.92      0.93        36\n",
      "           6       1.00      1.00      1.00        44\n",
      "           7       0.94      0.97      0.96        35\n",
      "           8       1.00      0.97      0.98        32\n",
      "           9       0.89      0.92      0.91        37\n",
      "\n",
      "    accuracy                           0.97       360\n",
      "   macro avg       0.97      0.97      0.97       360\n",
      "weighted avg       0.98      0.97      0.98       360\n",
      "\n",
      "[[38  0  0  0  0  0  0  0  0  0]\n",
      " [ 0 30  0  0  0  0  0  0  0  0]\n",
      " [ 0  0 33  0  0  0  0  0  0  0]\n",
      " [ 0  0  0 33  0  0  0  1  0  0]\n",
      " [ 0  0  0  0 41  0  0  0  0  0]\n",
      " [ 0  0  0  0  0 33  0  0  0  3]\n",
      " [ 0  0  0  0  0  0 44  0  0  0]\n",
      " [ 0  0  0  0  0  0  0 34  0  1]\n",
      " [ 0  1  0  0  0  0  0  0 31  0]\n",
      " [ 0  0  0  0  0  2  0  1  0 34]]\n"
     ]
    }
   ],
   "source": [
    "#Accuracy of the predicted values\n",
    "from sklearn.metrics import classification_report,confusion_matrix\n",
    "print(classification_report(y_test_class,y_pred_class))\n",
    "print(confusion_matrix(y_test_class,y_pred_class))"
   ]
  },
  {
   "cell_type": "code",
   "execution_count": null,
   "id": "2aca70fc",
   "metadata": {},
   "outputs": [],
   "source": []
  }
 ],
 "metadata": {
  "kernelspec": {
   "display_name": "Python 3 (ipykernel)",
   "language": "python",
   "name": "python3"
  },
  "language_info": {
   "codemirror_mode": {
    "name": "ipython",
    "version": 3
   },
   "file_extension": ".py",
   "mimetype": "text/x-python",
   "name": "python",
   "nbconvert_exporter": "python",
   "pygments_lexer": "ipython3",
   "version": "3.9.13"
  }
 },
 "nbformat": 4,
 "nbformat_minor": 5
}
